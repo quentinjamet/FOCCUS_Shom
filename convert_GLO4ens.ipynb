{
 "cells": [
  {
   "cell_type": "code",
   "execution_count": 3,
   "metadata": {},
   "outputs": [],
   "source": [
    "%matplotlib inline\n",
    "import FOCCUS_Shom as foccus\n",
    "import numpy as np"
   ]
  },
  {
   "cell_type": "code",
   "execution_count": 2,
   "metadata": {
    "scrolled": true
   },
   "outputs": [
    {
     "name": "stdout",
     "output_type": "stream",
     "text": [
      "-- Generate 3D land/ocean mask on regular grid --\n",
      "-- Convert month: /2019/02/\n",
      "time period: 20190227-20190227\n",
      "== member 000 ==\n",
      "== member 001 ==\n",
      "== member 002 ==\n",
      "== member 003 ==\n",
      "== member 004 ==\n",
      "== member 005 ==\n",
      "== member 006 ==\n",
      "== member 007 ==\n",
      "== member 008 ==\n",
      "== member 009 ==\n",
      "== member 010 ==\n",
      "== member 011 ==\n",
      "== member 012 ==\n",
      "== member 013 ==\n",
      "== member 014 ==\n",
      "== member 015 ==\n",
      "== member 016 ==\n",
      "(2025-05-20 09:09:30) -- write to netcdf: /scale/project/shom_simurep/public_no_ftp/PROJETS/FOCCUS/dataset/tmp//2019/02/ens025-reana-daily_20190227-20190227.nc\n",
      "time period: 20190228-20190228\n",
      "== member 000 ==\n",
      "== member 001 ==\n",
      "== member 002 ==\n",
      "== member 003 ==\n",
      "== member 004 ==\n",
      "== member 005 ==\n",
      "== member 006 ==\n",
      "== member 007 ==\n",
      "== member 008 ==\n",
      "== member 009 ==\n",
      "== member 010 ==\n",
      "== member 011 ==\n",
      "== member 012 ==\n",
      "== member 013 ==\n",
      "== member 014 ==\n",
      "== member 015 ==\n",
      "== member 016 ==\n",
      "(2025-05-20 09:14:59) -- write to netcdf: /scale/project/shom_simurep/public_no_ftp/PROJETS/FOCCUS/dataset/tmp//2019/02/ens025-reana-daily_20190228-20190228.nc\n"
     ]
    }
   ],
   "source": [
    "dir_ens025 = '/scale/project/shom_simurep/public_no_ftp/PROJETS/FOCCUS/dataset/tmp/'\n",
    "varlist = dict({\"thetao\": \"thetao\", \n",
    "                \"so\": \"so\", \n",
    "                \"uo\": \"uo\", \n",
    "                \"vo\": \"vo\", \n",
    "                \"zos\": \"zos\", \n",
    "                \"time\": \"time_counter\", \n",
    "                \"longitude\": \"nav_lon\", \n",
    "                \"latitude\": \"nav_lat\",\n",
    "                \"x\": \"x\", \n",
    "                \"y\": \"y\",\n",
    "                \"z\": \"deptht\",\n",
    "                \"x_u\": \"x\",\n",
    "                \"y_u\": \"y\",\n",
    "                \"z_u\": \"depthu\",\n",
    "                \"x_v\": \"x\",\n",
    "                \"y_v\": \"y\",\n",
    "                \"z_v\": \"depthv\",\n",
    "               })\n",
    "dates   = dict({\"yr_ini\": 2019, \"mth_ini\": 2, \"yr_end\": 2019, \"mth_end\": 2})\n",
    "#ls\n",
    "foccus.convert_ens025(dir_ens025, dates=dates, varList=varlist, fileOUT='ens025-reana-daily', ens=True)"
   ]
  }
 ],
 "metadata": {
  "jupytext": {
   "cell_metadata_filter": "-all",
   "notebook_metadata_filter": "-all"
  },
  "kernelspec": {
   "display_name": "Python [conda env:qjenv]",
   "language": "python",
   "name": "conda-env-qjenv-py"
  },
  "language_info": {
   "codemirror_mode": {
    "name": "ipython",
    "version": 3
   },
   "file_extension": ".py",
   "mimetype": "text/x-python",
   "name": "python",
   "nbconvert_exporter": "python",
   "pygments_lexer": "ipython3",
   "version": "3.8.18"
  }
 },
 "nbformat": 4,
 "nbformat_minor": 4
}
